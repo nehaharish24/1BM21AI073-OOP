{
 "cells": [
  {
   "cell_type": "code",
   "execution_count": 1,
   "id": "1a0752a2",
   "metadata": {},
   "outputs": [
    {
     "name": "stdout",
     "output_type": "stream",
     "text": [
      "True\n",
      "True\n",
      "False\n",
      "True\n",
      "True\n"
     ]
    }
   ],
   "source": [
    "'''write a program to create two empty classes, Student and Marks. Now create some instances\n",
    "   and check whether they are  instances of the said classes or not.Also, check whether the \n",
    "said classes are subclasses of the built-in object class or not.'''\n",
    "\n",
    "class student:\n",
    "    pass\n",
    "    \n",
    "class marks:\n",
    "    pass\n",
    "\n",
    "s1=student()\n",
    "m1=marks()\n",
    "print(isinstance(s1, student))\n",
    "print(isinstance(m1, marks))\n",
    "print(isinstance(s1, marks))\n",
    "\n",
    "print(issubclass(student,object))\n",
    "print(issubclass(marks,object))"
   ]
  },
  {
   "cell_type": "code",
   "execution_count": 2,
   "id": "efe9669b",
   "metadata": {},
   "outputs": [
    {
     "name": "stdout",
     "output_type": "stream",
     "text": [
      "5 +i 9\n",
      "3 +i 1\n",
      "8 +i 10\n"
     ]
    }
   ],
   "source": [
    "#addition of two complex numbers\n",
    "\n",
    "class complex:\n",
    "    def __init__(self,real,img):\n",
    "        self.real=real\n",
    "        self.img=img\n",
    "        \n",
    "    def display(self):\n",
    "        print(self.real,\"+i\",self.img)\n",
    "        \n",
    "    def add(c1,c2,c3):\n",
    "        c3.real=c1.real+c2.real\n",
    "        c3.img=c1.img+c2.img\n",
    "        \n",
    "        \n",
    "c1=complex(5,9)\n",
    "c2=complex(3,1)\n",
    "c3=complex(0,0)\n",
    "c1.display()\n",
    "c2.display()\n",
    "complex.add(c1,c2,c3)\n",
    "c3.display()"
   ]
  },
  {
   "cell_type": "code",
   "execution_count": 3,
   "id": "6fe7175f",
   "metadata": {},
   "outputs": [
    {
     "name": "stdout",
     "output_type": "stream",
     "text": [
      "May god bless you, \n",
      "Have a sunshine on you,\n",
      "Happy Birthday to you !\n"
     ]
    }
   ],
   "source": [
    "'''define a class called songs, it will show the lyrics of the song \n",
    "its __init__()methods should have two ba \\aruguments:self and lyrics.\n",
    "lyrics is a list.inside your class create a method called sing_me_a song\n",
    "that prints each element of lyrics on his own line .define varible:\n",
    "'''\n",
    "class song(object):\n",
    "    def __init__(self,lyrics):\n",
    "        self.lyrics=lyrics\n",
    "    def sing_me_a_song(self):\n",
    "        for line in self.lyrics:\n",
    "            print(line)\n",
    "happy_bday = song([\"May god bless you, \",\n",
    "                   \"Have a sunshine on you,\",\n",
    "                   \"Happy Birthday to you !\"])\n",
    "happy_bday.sing_me_a_song()"
   ]
  },
  {
   "cell_type": "code",
   "execution_count": 4,
   "id": "b706db7f",
   "metadata": {},
   "outputs": [
    {
     "name": "stdout",
     "output_type": "stream",
     "text": [
      "wooff\n",
      "the name of dog is tom\n",
      "the name of dog is max\n",
      "the dog age is 21\n"
     ]
    }
   ],
   "source": [
    "from datetime import datetime\n",
    "\n",
    "class dog:\n",
    "    def __init__(self,name,size,breed=\"unknown\",dob=\"unknown\"):\n",
    "        self.name=name\n",
    "        self.size=size\n",
    "        self.breed=breed\n",
    "        self.dob=dob\n",
    "        \n",
    "        \n",
    "        \n",
    "    def bark(self):\n",
    "        print(\"wooff\")\n",
    "        \n",
    "    def get_name(self):\n",
    "        print(\"the name of dog is\",self.name)\n",
    "        \n",
    "    def set_name(self,new_name):\n",
    "        if len(new_name)>2 and len(new_name)<30:\n",
    "            new_name.title()\n",
    "            self.name=new_name\n",
    "        \n",
    "    def dog_years(self):\n",
    "        if self.dob==\"unknown\":\n",
    "            print(\"unknown date of birth\")\n",
    "        else:\n",
    "            birth_year = int(self.dob[-4:])\n",
    "            today = datetime.now()\n",
    "            today_year=today.year\n",
    "            age_in_years = (today_year - birth_year)\n",
    "            dog_age = age_in_years * 7 \n",
    "            print(\"the dog age is\",dog_age)\n",
    "            \n",
    "dog1=dog('tom','small','beagle','28/10/2021')\n",
    "dog1.bark()\n",
    "dog1.get_name()\n",
    "dog1.set_name('max')\n",
    "dog1.get_name()\n",
    "dog1.dog_years()"
   ]
  },
  {
   "cell_type": "code",
   "execution_count": 5,
   "id": "8a36d2c0",
   "metadata": {},
   "outputs": [
    {
     "name": "stdout",
     "output_type": "stream",
     "text": [
      "Employee Name: John Doe\n",
      "Employee: John Doe\n",
      "Salary: 50000\n",
      "John Doe is working.\n"
     ]
    }
   ],
   "source": [
    "\n",
    "\n",
    "class employee:\n",
    "    def __init__(self,name,salary):\n",
    "        self.name=name\n",
    "        self.__salary=salary\n",
    "        \n",
    "    def work(self):\n",
    "        print(f\"{self.name} is working.\")\n",
    "\n",
    "    def show(self):\n",
    "        print(f\"Employee: {self.name}\\nSalary: {self.__salary}\")\n",
    "        \n",
    "employee1 = employee(\"John Doe\", 50000)\n",
    "# Access public instance variable (name)\n",
    "print(\"Employee Name:\", employee1.name)\n",
    "\n",
    "# Access private instance variable using getter method (show())\n",
    "employee1.show()\n",
    "\n",
    "# Call the work method\n",
    "employee1.work()"
   ]
  },
  {
   "cell_type": "code",
   "execution_count": 6,
   "id": "6e6a1725",
   "metadata": {},
   "outputs": [
    {
     "name": "stdout",
     "output_type": "stream",
     "text": [
      "Balance: 15000\n",
      "Balance: 17000\n",
      "Withdrawal successful.\n",
      "Balance: 2000\n"
     ]
    }
   ],
   "source": [
    "'''create a class called CREDITCARD, make limit variable completely private to the outside\n",
    "   of the class and balance should be accessible outside the class, but not modifiable.\n",
    "   To acheive this, make a get_balance() field public, however balance can only be modified \n",
    "   via withdraw() and deposit() methods that have safegaurd checks in place.'''\n",
    "   \n",
    "class CREDITCARD:\n",
    "    def __init__(self,limit,balance):\n",
    "        self.__limit=limit\n",
    "        self.balance=balance\n",
    "        \n",
    "    def get_balance(self):\n",
    "        print(\"Balance:\", self.balance)\n",
    "        \n",
    "    def deposit(self,amount):\n",
    "        self.balance += amount\n",
    "        \n",
    "    \n",
    "    def withdraw(self, amount):\n",
    "        if self.balance >= amount and self.balance - amount >= -self.__limit:\n",
    "            self.balance -= amount\n",
    "            print(\"Withdrawal successful.\")\n",
    "        else:\n",
    "            print(\"Withdrawal failed. Insufficient funds or over limit.\")\n",
    "\n",
    "            \n",
    "c1=CREDITCARD(3000,15000)\n",
    "c1.get_balance()\n",
    "c1.deposit(2000)\n",
    "c1.get_balance()\n",
    "c1.withdraw(15000)\n",
    "c1.get_balance()"
   ]
  },
  {
   "cell_type": "code",
   "execution_count": 10,
   "id": "9417f42c",
   "metadata": {},
   "outputs": [
    {
     "name": "stdout",
     "output_type": "stream",
     "text": [
      "kick start\n",
      "self start\n",
      "kick start\n"
     ]
    }
   ],
   "source": [
    "from abc import ABC, abstractmethod\n",
    "class vehicle(ABC):\n",
    "    def __init__(self,no_of_wheels):\n",
    "        self.no_of_wheels=no_of_wheels\n",
    "    @abstractmethod\n",
    "    def start(self):\n",
    "        pass\n",
    "\n",
    "class bike(vehicle):\n",
    "    def start(self):\n",
    "        print(\"kick start\")\n",
    "        \n",
    "        \n",
    "class car(vehicle):\n",
    "    def start(self):\n",
    "        print(\"self start\")\n",
    "        \n",
    "class bus(vehicle):\n",
    "    def start(self):\n",
    "        print(\"kick start\")\n",
    "        \n",
    "        \n",
    "b1=bike(2)\n",
    "b1.start()\n",
    "\n",
    "        \n",
    "b2=car(4)\n",
    "b2.start()\n",
    "\n",
    "        \n",
    "b3=bus(6)\n",
    "b3.start()"
   ]
  },
  {
   "cell_type": "code",
   "execution_count": 13,
   "id": "99f1b625",
   "metadata": {},
   "outputs": [
    {
     "name": "stdout",
     "output_type": "stream",
     "text": [
      "Vehicle: Ferrari 488 GTB\n",
      "Color: Red\n",
      "Top Speed: 205 mph\n"
     ]
    }
   ],
   "source": [
    "class Vehicle:\n",
    "    def __init__(self, brand, model):\n",
    "        self.brand = brand\n",
    "        self.model = model\n",
    "\n",
    "    def display_info(self):\n",
    "        print(f\"Vehicle: {self.brand} {self.model}\")\n",
    "\n",
    "\n",
    "class Car(Vehicle):\n",
    "    def __init__(self, brand, model, color):\n",
    "        # Call the _init_ method of the parent class (Vehicle)\n",
    "        super().__init__(brand, model)\n",
    "        self.color = color\n",
    "\n",
    "    def display_info(self):\n",
    "        # Call the display_info method of the parent class (Vehicle)\n",
    "        super().display_info()\n",
    "        print(f\"Color: {self.color}\")\n",
    "\n",
    "\n",
    "class SportsCar(Car):\n",
    "    def __init__(self, brand, model, color, top_speed):\n",
    "        # Call the _init_ method of the parent class (Car)\n",
    "        super().__init__(brand, model, color)\n",
    "        self.top_speed = top_speed\n",
    "\n",
    "    def display_info(self):\n",
    "        # Call the display_info method of the parent class (Car)\n",
    "        super().display_info()\n",
    "        print(f\"Top Speed: {self.top_speed} mph\")\n",
    "\n",
    "\n",
    "# Example usage\n",
    "sports_car = SportsCar(brand=\"Ferrari\", model=\"488 GTB\", color=\"Red\", top_speed=205)\n",
    "sports_car.display_info()"
   ]
  },
  {
   "cell_type": "code",
   "execution_count": 16,
   "id": "0515a1d6",
   "metadata": {},
   "outputs": [
    {
     "name": "stdout",
     "output_type": "stream",
     "text": [
      "Person: John Doe, Age: 30\n",
      "Company: ABC Corp, Employee ID: E123\n",
      "Role: Software Engineer\n"
     ]
    }
   ],
   "source": [
    "class Person:\n",
    "    def __init__(self, name, age):\n",
    "        self.name = name\n",
    "        self.age = age\n",
    "\n",
    "    def display_info(self):\n",
    "        print(f\"Person: {self.name}, Age: {self.age}\")\n",
    "\n",
    "\n",
    "class Company:\n",
    "    def __init__(self, company_name, employee_id):\n",
    "        self.company_name = company_name\n",
    "        self.employee_id = employee_id\n",
    "\n",
    "    def display_info(self):\n",
    "        print(f\"Company: {self.company_name}, Employee ID: {self.employee_id}\")\n",
    "\n",
    "\n",
    "class Employee(Person, Company):\n",
    "    def __init__(self, name, age, company_name, employee_id, role):\n",
    "        # Call the _init_ methods of both parent classes\n",
    "        Person.__init__(self, name, age)\n",
    "        Company.__init__(self, company_name, employee_id)\n",
    "        self.role = role\n",
    "\n",
    "    def display_info(self):\n",
    "        # Call the display_info methods of both parent classes\n",
    "        Person.display_info(self)\n",
    "        Company.display_info(self)\n",
    "        print(f\"Role: {self.role}\")\n",
    "\n",
    "\n",
    "# Example usage\n",
    "employee = Employee(name=\"John Doe\", age=30, company_name=\"ABC Corp\", employee_id=\"E123\", role=\"Software Engineer\")\n",
    "employee.display_info()"
   ]
  }
 ],
 "metadata": {
  "kernelspec": {
   "display_name": "Python 3 (ipykernel)",
   "language": "python",
   "name": "python3"
  },
  "language_info": {
   "codemirror_mode": {
    "name": "ipython",
    "version": 3
   },
   "file_extension": ".py",
   "mimetype": "text/x-python",
   "name": "python",
   "nbconvert_exporter": "python",
   "pygments_lexer": "ipython3",
   "version": "3.11.4"
  }
 },
 "nbformat": 4,
 "nbformat_minor": 5
}
